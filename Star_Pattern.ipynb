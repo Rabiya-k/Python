{
  "cells": [
    {
      "cell_type": "markdown",
      "metadata": {
        "id": "view-in-github",
        "colab_type": "text"
      },
      "source": [
        "<a href=\"https://colab.research.google.com/github/Rabiya-k/Python/blob/main/Star_Pattern.ipynb\" target=\"_parent\"><img src=\"https://colab.research.google.com/assets/colab-badge.svg\" alt=\"Open In Colab\"/></a>"
      ]
    },
    {
      "cell_type": "markdown",
      "source": [
        "#Hollow square"
      ],
      "metadata": {
        "id": "zFmhDXFliSKW"
      }
    },
    {
      "cell_type": "code",
      "source": [
        "#define a function\n",
        "\n",
        "def pattern(n):\n",
        "   for i in range(n):\n",
        "      for j in range(n):\n",
        "         # printing stars\n",
        "         if i == 0 or i == n-1 or j == 0 or j == n-1:\n",
        "            print(\"*\", end=\" \")\n",
        "         else:\n",
        "            print(\" \", end=\" \")\n",
        "      print(\"\\r\")\n",
        "\n",
        "# take inputs\n",
        "n = int(input('Enter the number of rows: '))\n",
        "\n",
        "# calling function\n",
        "pattern(n)"
      ],
      "metadata": {
        "colab": {
          "base_uri": "https://localhost:8080/"
        },
        "id": "vGLn-KqiiG5R",
        "outputId": "05e570aa-f548-495e-f181-16ff029cf377"
      },
      "execution_count": 1,
      "outputs": [
        {
          "output_type": "stream",
          "name": "stdout",
          "text": [
            "Enter the number of rows: 9\n",
            "* * * * * * * * * \n",
            "*               * \n",
            "*               * \n",
            "*               * \n",
            "*               * \n",
            "*               * \n",
            "*               * \n",
            "*               * \n",
            "* * * * * * * * * \n"
          ]
        }
      ]
    },
    {
      "cell_type": "markdown",
      "metadata": {
        "id": "auZaDv6ZNGJb"
      },
      "source": [
        "#Filled Square"
      ]
    },
    {
      "cell_type": "code",
      "execution_count": 2,
      "metadata": {
        "colab": {
          "base_uri": "https://localhost:8080/"
        },
        "id": "_EgQrVtPAzUF",
        "outputId": "51c3f588-6131-4e9a-f781-e0d7e91d7c83"
      },
      "outputs": [
        {
          "output_type": "stream",
          "name": "stdout",
          "text": [
            "enter side of a square:9\n",
            "* * * * * * * * * \n",
            "* * * * * * * * * \n",
            "* * * * * * * * * \n",
            "* * * * * * * * * \n",
            "* * * * * * * * * \n",
            "* * * * * * * * * \n",
            "* * * * * * * * * \n",
            "* * * * * * * * * \n",
            "* * * * * * * * * \n"
          ]
        }
      ],
      "source": [
        "#Using Nested forloop\n",
        "side = int(input(\"enter side of a square:\"))\n",
        "\n",
        "for i in range(side):\n",
        "  for j in range(side):\n",
        "    print(\"* \", end=\"\")\n",
        "  print()"
      ]
    },
    {
      "cell_type": "markdown",
      "metadata": {
        "id": "1AbSQinmNO_A"
      },
      "source": [
        "#Triangles"
      ]
    },
    {
      "cell_type": "code",
      "execution_count": 3,
      "metadata": {
        "colab": {
          "base_uri": "https://localhost:8080/"
        },
        "id": "_rdbNVFhDkUZ",
        "outputId": "0535659b-65b7-4e91-a81a-7a7dce7b2962"
      },
      "outputs": [
        {
          "output_type": "stream",
          "name": "stdout",
          "text": [
            "enter the no of row:9\n",
            "         * \n",
            "        * * \n",
            "       * * * \n",
            "      * * * * \n",
            "     * * * * * \n",
            "    * * * * * * \n",
            "   * * * * * * * \n",
            "  * * * * * * * * \n",
            " * * * * * * * * * \n"
          ]
        }
      ],
      "source": [
        "#define a function\n",
        "def star_pattern3(n):\n",
        "  space = n\n",
        "\n",
        "  #outer loop for rows\n",
        "  for i in range(1, n+1):\n",
        "\n",
        "   #inner loop1 for print space\n",
        "    for j in range(1, space+1):\n",
        "      print(\" \", end=\"\")\n",
        "    #inner loop2 for print star\n",
        "    for k in range(1, i+1):\n",
        "      print(\"* \", end=\"\")\n",
        "    #end of line after each row\n",
        "    print()\n",
        "    # for decrease space\n",
        "    space= space-1\n",
        "n = int(input(\"enter the no of row:\"))\n",
        "star_pattern3(n)\n"
      ]
    },
    {
      "cell_type": "code",
      "execution_count": 4,
      "metadata": {
        "colab": {
          "base_uri": "https://localhost:8080/"
        },
        "id": "tM74o-XjZHd4",
        "outputId": "fb19adc8-d86f-40a9-9cd0-2cfab9a5c436"
      },
      "outputs": [
        {
          "output_type": "stream",
          "name": "stdout",
          "text": [
            "no of rows:9\n",
            "* \n",
            "* * \n",
            "* * * \n",
            "* * * * \n",
            "* * * * * \n",
            "* * * * * * \n",
            "* * * * * * * \n",
            "* * * * * * * * \n",
            "* * * * * * * * * \n",
            "* * * * * * * * \n",
            "* * * * * * * \n",
            "* * * * * * \n",
            "* * * * * \n",
            "* * * * \n",
            "* * * \n",
            "* * \n",
            "* \n",
            "\n"
          ]
        }
      ],
      "source": [
        "#define a function\n",
        "\n",
        "def star_patterna(n):\n",
        "\n",
        "\n",
        "  for i in range(1, n+1):\n",
        "      for j in range(1, i+1):\n",
        "         print(\"* \",end=\"\")\n",
        "      print()\n",
        "\n",
        "\n",
        "  for i in range(n, 0, -1):\n",
        "      for j in range(1, i):\n",
        "         print(\"* \",end=\"\")\n",
        "      print()\n",
        "n= int(input(\"no of rows:\"))\n",
        "star_patterna(n)"
      ]
    },
    {
      "cell_type": "code",
      "execution_count": 5,
      "metadata": {
        "colab": {
          "base_uri": "https://localhost:8080/"
        },
        "id": "A_eFYwlgL-qU",
        "outputId": "d5eaa10a-d388-4177-e82a-6299f3c0b4df"
      },
      "outputs": [
        {
          "output_type": "stream",
          "name": "stdout",
          "text": [
            "Enter number of rows:9\n",
            "* \n",
            "* * \n",
            "* * * \n",
            "* * * * \n",
            "* * * * * \n",
            "* * * * * * \n",
            "* * * * * * * \n",
            "* * * * * * * * \n",
            "* * * * * * * * * \n",
            "* * * * * * * * \n",
            "* * * * * * * \n",
            "* * * * * * \n",
            "* * * * * \n",
            "* * * * \n",
            "* * * \n",
            "* * \n",
            "* \n"
          ]
        }
      ],
      "source": [
        "#Using Nested forloop\n",
        "\n",
        "rows = int(input(\"Enter number of rows:\"))\n",
        "for i in range(1, rows+1):\n",
        "    for j in range(1, i + 1):\n",
        "        print(\"*\", end=' ')\n",
        "    print()\n",
        "\n",
        "for i in range(rows, 1, -1):\n",
        "    for j in range(1, i):\n",
        "        print(\"*\", end=' ')\n",
        "    print()"
      ]
    },
    {
      "cell_type": "code",
      "execution_count": 6,
      "metadata": {
        "colab": {
          "base_uri": "https://localhost:8080/"
        },
        "id": "MrZ_x_UPp8DV",
        "outputId": "be206cf1-e11e-4c6c-a739-5fec340f9514"
      },
      "outputs": [
        {
          "output_type": "stream",
          "name": "stdout",
          "text": [
            "enter no of rows:9\n",
            "* \n",
            "* * \n",
            "* * * \n",
            "* * * * \n",
            "* * * * * \n",
            "* * * * * * \n",
            "* * * * * * * \n",
            "* * * * * * * * \n",
            "* * * * * * * * * \n"
          ]
        }
      ],
      "source": [
        "#define a function\n",
        "def star_pattern1(n):\n",
        "\n",
        "\n",
        "  #outer for loop for rows\n",
        "  for i in range(1, n+1):\n",
        "\n",
        "      #inner for loop for columns/star\n",
        "      for j in range(1, i+1):\n",
        "\n",
        "          #print star in each row\n",
        "          print(\"* \",end=\"\")\n",
        "\n",
        "      #end of line after each row\n",
        "      print()\n",
        "n=int(input(\"enter no of rows:\"))\n",
        "star_pattern1(n)"
      ]
    },
    {
      "cell_type": "markdown",
      "metadata": {
        "id": "pWqFMtkHXNtD"
      },
      "source": [
        "#Inverted Triangles"
      ]
    },
    {
      "cell_type": "code",
      "execution_count": 7,
      "metadata": {
        "colab": {
          "base_uri": "https://localhost:8080/"
        },
        "id": "pyVWR5vuRdvP",
        "outputId": "109d2807-4f72-41f9-ab83-3d1eee759a8f"
      },
      "outputs": [
        {
          "output_type": "stream",
          "name": "stdout",
          "text": [
            "enter the no of row:9\n",
            "         * * * * * * * * * \n",
            "          * * * * * * * * \n",
            "           * * * * * * * \n",
            "            * * * * * * \n",
            "             * * * * * \n",
            "              * * * * \n",
            "               * * * \n",
            "                * * \n",
            "                 * \n"
          ]
        }
      ],
      "source": [
        "#define a function\n",
        "def star_pattern4(n):\n",
        "  space = n\n",
        "\n",
        "  #outer loop for rows\n",
        "  for i in range(n, 0, -1):\n",
        "\n",
        "   #inner loop1 for print space\n",
        "    for j in range(space, 0, -1):\n",
        "      print(\" \", end=\"\")\n",
        "    #inner loop2 for print star\n",
        "    for k in range(1, i+1):\n",
        "      print(\"* \", end=\"\")\n",
        "    #end of line after each row\n",
        "    print()\n",
        "    # for decrease space\n",
        "    space= space+1\n",
        "n = int(input(\"enter the no of row:\"))\n",
        "star_pattern4(n)"
      ]
    },
    {
      "cell_type": "code",
      "execution_count": 8,
      "metadata": {
        "colab": {
          "base_uri": "https://localhost:8080/"
        },
        "id": "ADLB9DPS--d-",
        "outputId": "930a78d7-f549-4731-a998-2814a455522e"
      },
      "outputs": [
        {
          "output_type": "stream",
          "name": "stdout",
          "text": [
            "enter no of rows:9\n",
            "* * * * * * * * * \n",
            "* * * * * * * * \n",
            "* * * * * * * \n",
            "* * * * * * \n",
            "* * * * * \n",
            "* * * * \n",
            "* * * \n",
            "* * \n",
            "* \n"
          ]
        }
      ],
      "source": [
        "#define a function\n",
        "def star_pattern2(n):\n",
        "\n",
        "  #outer for loop for rows\n",
        "  for i in range (n, 0, -1):\n",
        "\n",
        "    #inner for loop for columns/star\n",
        "    for j in range(1, i+1):\n",
        "      print(\"* \", end=\"\")\n",
        "\n",
        "    print()\n",
        "\n",
        "n=int(input(\"enter no of rows:\"))\n",
        "star_pattern2(n)\n",
        "\n",
        "\n",
        "\n"
      ]
    },
    {
      "cell_type": "markdown",
      "metadata": {
        "id": "2X78vQ-hYqhU"
      },
      "source": [
        "#Diamond"
      ]
    },
    {
      "cell_type": "code",
      "execution_count": 9,
      "metadata": {
        "id": "F1XVzmzCXhkv",
        "colab": {
          "base_uri": "https://localhost:8080/"
        },
        "outputId": "40766333-a39e-4b12-ddb1-3fae8c03c2c4"
      },
      "outputs": [
        {
          "output_type": "stream",
          "name": "stdout",
          "text": [
            "enter the no of row:9\n",
            "         * \n",
            "        * * \n",
            "       * * * \n",
            "      * * * * \n",
            "     * * * * * \n",
            "    * * * * * * \n",
            "   * * * * * * * \n",
            "  * * * * * * * * \n",
            " * * * * * * * * * \n",
            " * * * * * * * * * \n",
            "  * * * * * * * * \n",
            "   * * * * * * * \n",
            "    * * * * * * \n",
            "     * * * * * \n",
            "      * * * * \n",
            "       * * * \n",
            "        * * \n",
            "         * \n"
          ]
        }
      ],
      "source": [
        "#define a function\n",
        "def star_pattern5(n):\n",
        "  space = n\n",
        "\n",
        "  #outer loop for rows\n",
        "  for i in range(1, n+1):\n",
        "\n",
        "   #inner loop1 for print space\n",
        "    for j in range(1, space+1):\n",
        "      print(\" \", end=\"\")\n",
        "    #inner loop2 for print star\n",
        "    for k in range(1, i+1):\n",
        "      print(\"* \", end=\"\")\n",
        "    #end of line after each row\n",
        "    print()\n",
        "    # for decrease space\n",
        "    space= space-1\n",
        "\n",
        "\n",
        "\n",
        "  #outer loop for rows\n",
        "  for i in range(n, 0, -1):\n",
        "\n",
        "   #inner loop1 for print space\n",
        "    for j in range(space+1, 0, -1):\n",
        "      print(\" \", end=\"\")\n",
        "    #inner loop2 for print star\n",
        "    for k in range(1, i+1):\n",
        "      print(\"* \", end=\"\")\n",
        "    #end of line after each row\n",
        "    print()\n",
        "    # for decrease space\n",
        "    space= space+1\n",
        "\n",
        "\n",
        "n = int(input(\"enter the no of row:\"))\n",
        "star_pattern5(n)"
      ]
    },
    {
      "cell_type": "markdown",
      "source": [
        "#Hollow diamond"
      ],
      "metadata": {
        "id": "mM26auBGgIdH"
      }
    },
    {
      "cell_type": "code",
      "source": [
        "#define a function\n",
        "\n",
        "def pattern(n):\n",
        "   # print upper hollow pyramid\n",
        "   for i in range(n):\n",
        "      for j in range(n-i-1):\n",
        "         print(\" \", end=\" \")\n",
        "      for j in range(2*i+1):\n",
        "         if j == 0 or j == 2*i:\n",
        "            # printing stars\n",
        "            print(\"*\", end=\" \")\n",
        "         else:\n",
        "            print(\" \", end=\" \")\n",
        "      print()\n",
        "\n",
        "   # print downward hollow pyramid\n",
        "   for i in range(n-1):\n",
        "      for j in range(i+1):\n",
        "         print(\" \", end=\" \")\n",
        "      for j in range(2*(n-i-1)-1):\n",
        "         if j == 0 or j == 2*(n-i-1)-2:\n",
        "            # printing stars\n",
        "            print(\"*\", end=\" \")\n",
        "         else:\n",
        "            print(\" \", end=\" \")\n",
        "      print()\n",
        "\n",
        "# take inputs\n",
        "n = int(input('Enter the number of rows: '))\n",
        "\n",
        "# calling function\n",
        "pattern(n)"
      ],
      "metadata": {
        "colab": {
          "base_uri": "https://localhost:8080/"
        },
        "id": "OPNz-9DWjde5",
        "outputId": "11a5abf1-7912-44fc-bc22-b45ce075b25d"
      },
      "execution_count": 10,
      "outputs": [
        {
          "output_type": "stream",
          "name": "stdout",
          "text": [
            "Enter the number of rows: 9\n",
            "                * \n",
            "              *   * \n",
            "            *       * \n",
            "          *           * \n",
            "        *               * \n",
            "      *                   * \n",
            "    *                       * \n",
            "  *                           * \n",
            "*                               * \n",
            "  *                           * \n",
            "    *                       * \n",
            "      *                   * \n",
            "        *               * \n",
            "          *           * \n",
            "            *       * \n",
            "              *   * \n",
            "                * \n"
          ]
        }
      ]
    },
    {
      "cell_type": "markdown",
      "source": [
        "#Hollow diamond in filled square"
      ],
      "metadata": {
        "id": "fznOJUjVj3QS"
      }
    },
    {
      "cell_type": "code",
      "source": [
        "#Using Nested forloop\n",
        "\n",
        "n = int(input(\"enter the no of rows\"))\n",
        "for i in range(n,0,-1):\n",
        "  for j in range(i, 0,-1):\n",
        "    print(\"*\",end=\" \")\n",
        "  # for print space\n",
        "  for j in range(2*(n-i)):\n",
        "    print(\" \",end=\" \")\n",
        "  for j in range(i,0,-1):\n",
        "    print(\"*\",end=\" \")\n",
        "  print()\n",
        "\n",
        "for i in range(1,n):\n",
        "  for j in range(i+1):\n",
        "    print(\"*\",end=\" \")\n",
        "  for j in range(2*(n-i-1)):\n",
        "    print(\" \",end=\" \")\n",
        "  for j in range(i+1):\n",
        "    print(\"*\",end=\" \")\n",
        "  print()"
      ],
      "metadata": {
        "colab": {
          "base_uri": "https://localhost:8080/"
        },
        "id": "O1csIHEfgHF6",
        "outputId": "54b53920-c409-434e-e6d9-25312d99400a"
      },
      "execution_count": 11,
      "outputs": [
        {
          "output_type": "stream",
          "name": "stdout",
          "text": [
            "enter the no of rows9\n",
            "* * * * * * * * * * * * * * * * * * \n",
            "* * * * * * * *     * * * * * * * * \n",
            "* * * * * * *         * * * * * * * \n",
            "* * * * * *             * * * * * * \n",
            "* * * * *                 * * * * * \n",
            "* * * *                     * * * * \n",
            "* * *                         * * * \n",
            "* *                             * * \n",
            "*                                 * \n",
            "* *                             * * \n",
            "* * *                         * * * \n",
            "* * * *                     * * * * \n",
            "* * * * *                 * * * * * \n",
            "* * * * * *             * * * * * * \n",
            "* * * * * * *         * * * * * * * \n",
            "* * * * * * * *     * * * * * * * * \n",
            "* * * * * * * * * * * * * * * * * * \n"
          ]
        }
      ]
    },
    {
      "cell_type": "code",
      "source": [],
      "metadata": {
        "id": "MuNIfOehjiyq"
      },
      "execution_count": 11,
      "outputs": []
    }
  ],
  "metadata": {
    "colab": {
      "provenance": [],
      "authorship_tag": "ABX9TyNmq3hQ2RydY8tGl8C19r8T",
      "include_colab_link": true
    },
    "kernelspec": {
      "display_name": "Python 3",
      "name": "python3"
    },
    "language_info": {
      "name": "python"
    }
  },
  "nbformat": 4,
  "nbformat_minor": 0
}